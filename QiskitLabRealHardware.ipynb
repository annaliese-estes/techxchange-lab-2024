{
  "cells": [
    {
      "cell_type": "markdown",
      "metadata": {
        "id": "view-in-github",
        "colab_type": "text"
      },
      "source": [
        "<a href=\"https://colab.research.google.com/github/annaliese-estes/techxchange-lab-2024/blob/main/QiskitLabRealHardware.ipynb\" target=\"_parent\"><img src=\"https://colab.research.google.com/assets/colab-badge.svg\" alt=\"Open In Colab\"/></a>"
      ]
    },
    {
      "cell_type": "markdown",
      "id": "859c8b3f",
      "metadata": {
        "id": "859c8b3f"
      },
      "source": [
        "\n",
        "# Qiskit Runtime Lab\n",
        "\n",
        "Instructors:  \n",
        "Annaliese Estes  \n",
        "James Weaver\n",
        "\n",
        "Email:  \n",
        "annaliese.estes@ibm.com  \n",
        "james.weaver@ibm.com"
      ]
    },
    {
      "cell_type": "markdown",
      "id": "87444477",
      "metadata": {
        "id": "87444477"
      },
      "source": [
        "# Magic 8 Ball\n",
        "\n",
        "Here, we will build a Magic 8 Ball program that randomly returns 1 of 8 possible responses. How do we use quantum computing to generate a random number? Computational space scales exponentially in quantum computing. Thus, if we need a random result out of 8 possibilities, our program needs to take a measurement of a quantum state vector that consists of 8 basis states, which represent the computational space of 3 qubits in an equal superposition.\n",
        "\n"
      ]
    },
    {
      "cell_type": "code",
      "execution_count": null,
      "id": "a81d31ee",
      "metadata": {
        "scrolled": true,
        "id": "a81d31ee",
        "collapsed": true
      },
      "outputs": [],
      "source": [
        "# install Qiskit with visualization\n",
        "\n",
        "!pip install qiskit[visualization]\n",
        "!pip install qiskit-ibm-runtime"
      ]
    },
    {
      "cell_type": "code",
      "execution_count": null,
      "id": "d32bc7b5",
      "metadata": {
        "id": "d32bc7b5"
      },
      "outputs": [],
      "source": [
        "# install additional packages\n",
        "\n",
        "from qiskit import QuantumCircuit\n",
        "from qiskit.visualization import plot_histogram\n",
        "from qiskit_ibm_runtime import QiskitRuntimeService\n",
        "from qiskit_ibm_runtime import SamplerV2 as Sampler\n",
        "from qiskit.transpiler.preset_passmanagers import generate_preset_pass_manager\n",
        "import math\n",
        "import matplotlib.pyplot as plt"
      ]
    },
    {
      "cell_type": "code",
      "source": [
        "## Save your IBM Quantum account and set it as your default account.\n",
        "QiskitRuntimeService.save_account(\n",
        "\n",
        "    channel=\"ibm_quantum\",\n",
        "\n",
        "    token=\"YourTokenHere\",\n",
        "\n",
        "    set_as_default=True,\n",
        "\n",
        "    # Use `overwrite=True` if you're updating your token.\n",
        "    #overwrite=True,\n",
        ")\n",
        "\n",
        "# Load saved credentials\n",
        "service = QiskitRuntimeService()"
      ],
      "metadata": {
        "id": "2PG41vqPWZBR"
      },
      "id": "2PG41vqPWZBR",
      "execution_count": null,
      "outputs": []
    },
    {
      "cell_type": "code",
      "execution_count": null,
      "id": "dff395a3",
      "metadata": {
        "id": "dff395a3"
      },
      "outputs": [],
      "source": [
        "# define Magic 8 Ball responses\n",
        "\n",
        "responses = [\"Yes\", \"Not today\", \"Definitely\", \"Try again\", \"Signs point to yes\", \"Not likely\", \"Sure thing!\", \"Outlook not so good\"]"
      ]
    },
    {
      "cell_type": "markdown",
      "source": [
        "## Qiskit Patterns: Map problem to quantum circuits\n",
        "\n",
        "We can think of this step as mapping our problem to be run on a quantum computer. This step needs to be done for any quantum computation, because our instinct is to think of problems in a classical way, while quantum computers work differently.\n",
        "\n",
        "Problem:\n",
        "I need a program to generate a random number out of 8.\n",
        "\n",
        "Mapping to a classical computer: generate a random integer in range(1,9)\n",
        "\n",
        "Mapping to a quantum computer: put 3 qubits into an equal superposition, which creates a quantum state vector with 8 basis states, each with an equal probability of being the result of a measurement"
      ],
      "metadata": {
        "id": "NUD6VkyuRET1"
      },
      "id": "NUD6VkyuRET1"
    },
    {
      "cell_type": "code",
      "execution_count": null,
      "id": "1568e5ff",
      "metadata": {
        "id": "1568e5ff"
      },
      "outputs": [],
      "source": [
        "# set up a Quantum circuit with 3 qubits\n",
        "qc = QuantumCircuit(3)\n",
        "\n",
        "# place a Hadamard gate on qubits 0, 1, and 2\n",
        "qc.h(0)\n",
        "qc.h(1)\n",
        "qc.h(2)\n",
        "\n",
        "# add a measurement to your circuit\n",
        "qc.measure_all()\n",
        "\n",
        "# visualize your circuit before running it\n",
        "qc.draw(\"mpl\")"
      ]
    },
    {
      "cell_type": "markdown",
      "source": [
        "## Qiskit Patterns: Optimize for target hardware"
      ],
      "metadata": {
        "id": "annsL69BSI0u"
      },
      "id": "annsL69BSI0u"
    },
    {
      "cell_type": "code",
      "execution_count": null,
      "id": "e7dc87be",
      "metadata": {
        "id": "e7dc87be"
      },
      "outputs": [],
      "source": [
        "service = QiskitRuntimeService(channel=\"ibm_quantum\")\n",
        "backend = service.least_busy(simulator=False, operational=True)\n",
        "backend.name"
      ]
    },
    {
      "cell_type": "code",
      "source": [
        "pm = generate_preset_pass_manager(backend=backend, optimization_level=1)\n",
        "isa_circuit = pm.run(qc)\n",
        "\n",
        "isa_circuit.draw('mpl', idle_wires=False)"
      ],
      "metadata": {
        "id": "58vuBLyyXT7n"
      },
      "id": "58vuBLyyXT7n",
      "execution_count": null,
      "outputs": []
    },
    {
      "cell_type": "markdown",
      "source": [
        "## Qiskit Patterns: Execute on target hardware"
      ],
      "metadata": {
        "id": "A5qNH7RXSfJE"
      },
      "id": "A5qNH7RXSfJE"
    },
    {
      "cell_type": "code",
      "source": [
        "sampler = Sampler(mode=backend)\n",
        "job = sampler.run([isa_circuit], shots=1024)\n",
        "print(job.job_id())"
      ],
      "metadata": {
        "id": "5lT3KcYfX8Fy"
      },
      "id": "5lT3KcYfX8Fy",
      "execution_count": null,
      "outputs": []
    },
    {
      "cell_type": "markdown",
      "source": [
        "## Qiskit Patterns: Post-process results\n",
        "On the [IBM Quantum platform](https://quantum.ibm.com/), you should click into either your most recent job (if this is your most recent) or the job matching the ID that was output above if you had multiple jobs running. They will give you a piece of dynamic code within that workload readout that looks like the below but will autopopulate your API token and job ID when copy pasted."
      ],
      "metadata": {
        "id": "aBxQK54NSmM5"
      },
      "id": "aBxQK54NSmM5"
    },
    {
      "cell_type": "code",
      "source": [
        "from qiskit_ibm_runtime import QiskitRuntimeService\n",
        "\n",
        "service = QiskitRuntimeService(\n",
        "    channel='ibm_quantum',\n",
        "    instance='ibm-q/open/main',\n",
        "    token='***'\n",
        ")\n",
        "job = service.job('***')\n",
        "job_result = job.result()"
      ],
      "metadata": {
        "id": "fdxLpWhhhdCY"
      },
      "id": "fdxLpWhhhdCY",
      "execution_count": null,
      "outputs": []
    },
    {
      "cell_type": "code",
      "source": [
        "counts = job_result[0].data.meas.get_counts()\n",
        "print(counts)"
      ],
      "metadata": {
        "id": "N3g6kRPVu-C7"
      },
      "id": "N3g6kRPVu-C7",
      "execution_count": null,
      "outputs": []
    },
    {
      "cell_type": "code",
      "source": [
        "# plot results\n",
        "plot_histogram(counts)"
      ],
      "metadata": {
        "id": "20KV3UUcdIib"
      },
      "id": "20KV3UUcdIib",
      "execution_count": null,
      "outputs": []
    },
    {
      "cell_type": "markdown",
      "source": [
        "While running on the simulator, we had fun running our circuit for one shot over and over to get different answers from the Magic 8 Ball. When running on real hardware, it does not make sense to run our job over and over for one shot. For the purpose of following through on our theme, I will just take the first sampled measurement as our answer (The bitstrings in our counts item are added in order of when they were sampled)."
      ],
      "metadata": {
        "id": "_VR-oQsGUd3d"
      },
      "id": "_VR-oQsGUd3d"
    },
    {
      "cell_type": "code",
      "source": [
        "# accessing the first key of the dict item containing our results\n",
        "first_key = list(counts.keys())[0]\n",
        "\n",
        "# turning that string into an integer\n",
        "# result is given in base 2, so we need to communicate that because the int() function assumes base 10 as default\n",
        "integer_value = int(first_key, 2)\n",
        "\n",
        "# returns our Magic 8 Ball response\n",
        "print(responses[integer_value])"
      ],
      "metadata": {
        "id": "drl7lytlVeQ1"
      },
      "id": "drl7lytlVeQ1",
      "execution_count": null,
      "outputs": []
    },
    {
      "cell_type": "markdown",
      "source": [
        "### Expanding on the Magic 8 Ball\n",
        "\n",
        "What if we could create a biased Magic 8 Ball, one that would increase the likelihood of measuring outcomes associated with positive or negative responses?"
      ],
      "metadata": {
        "id": "2poiQQS1TAeQ"
      },
      "id": "2poiQQS1TAeQ"
    },
    {
      "cell_type": "markdown",
      "source": [
        "### Qiskit Patterns: Map problem to quantum circuits"
      ],
      "metadata": {
        "id": "JImXfELz1psL"
      },
      "id": "JImXfELz1psL"
    },
    {
      "cell_type": "code",
      "source": [
        "# set up a Quantum circuit with 3 qubits\n",
        "qc_weighted = QuantumCircuit(3)\n",
        "\n",
        "# place a Hadamard gate on qubits 0, 1, and 2\n",
        "qc_weighted.h(0)\n",
        "qc_weighted.h(1)\n",
        "qc_weighted.h(2)\n",
        "\n",
        "# weight the likelihood of certain outcomes by using an Ry gate\n",
        "qc_weighted.ry(math.pi / 8, 0)\n",
        "\n",
        "# add a measurement to your circuit\n",
        "qc_weighted.measure_all()\n",
        "\n",
        "# visualize the circuit before running it\n",
        "qc_weighted.draw(\"mpl\")"
      ],
      "metadata": {
        "id": "rdPk0najTHjQ"
      },
      "id": "rdPk0najTHjQ",
      "execution_count": null,
      "outputs": []
    },
    {
      "cell_type": "markdown",
      "source": [
        "### Qiskit Patterns: Optimize for target hardware"
      ],
      "metadata": {
        "id": "_wPM1rAg2CqX"
      },
      "id": "_wPM1rAg2CqX"
    },
    {
      "cell_type": "code",
      "source": [
        "service = QiskitRuntimeService(channel=\"ibm_quantum\")\n",
        "backend = service.least_busy(simulator=False, operational=True)\n",
        "backend.name"
      ],
      "metadata": {
        "id": "mOq6FooTDdcL"
      },
      "id": "mOq6FooTDdcL",
      "execution_count": null,
      "outputs": []
    },
    {
      "cell_type": "code",
      "source": [
        "pm = generate_preset_pass_manager(backend=backend, optimization_level=1)\n",
        "isa_circuit = pm.run(qc_weighted)\n",
        "\n",
        "isa_circuit.draw('mpl', idle_wires=False)"
      ],
      "metadata": {
        "id": "sjmtLPuLTLwe"
      },
      "id": "sjmtLPuLTLwe",
      "execution_count": null,
      "outputs": []
    },
    {
      "cell_type": "markdown",
      "source": [
        "### Qiskit Patterns: Execute on target hardware"
      ],
      "metadata": {
        "id": "w8NHFBJI2Ina"
      },
      "id": "w8NHFBJI2Ina"
    },
    {
      "cell_type": "code",
      "source": [
        "sampler = Sampler(mode=backend)\n",
        "job = sampler.run([isa_circuit], shots=1024)\n",
        "print(job.job_id())"
      ],
      "metadata": {
        "id": "dNI8FrzzDrEE"
      },
      "id": "dNI8FrzzDrEE",
      "execution_count": null,
      "outputs": []
    },
    {
      "cell_type": "markdown",
      "source": [
        "### Qiskit Patterns: Post-process results"
      ],
      "metadata": {
        "id": "koiusO-22Mei"
      },
      "id": "koiusO-22Mei"
    },
    {
      "cell_type": "code",
      "source": [
        "from qiskit_ibm_runtime import QiskitRuntimeService\n",
        "\n",
        "service = QiskitRuntimeService(\n",
        "    channel='ibm_quantum',\n",
        "    instance='ibm-q/open/main',\n",
        "    token='YOURTOKENHERE'\n",
        ")\n",
        "job = service.job('YOURJOBID')\n",
        "job_result = job.result()"
      ],
      "metadata": {
        "id": "Ds_24wt2K08q"
      },
      "id": "Ds_24wt2K08q",
      "execution_count": null,
      "outputs": []
    },
    {
      "cell_type": "code",
      "source": [
        "counts = job_result[0].data.meas.get_counts()\n",
        "print(counts)"
      ],
      "metadata": {
        "id": "F1PkwDpQK4EQ"
      },
      "id": "F1PkwDpQK4EQ",
      "execution_count": null,
      "outputs": []
    },
    {
      "cell_type": "code",
      "source": [
        "# plot results\n",
        "plot_histogram(counts)"
      ],
      "metadata": {
        "id": "-P7pYlTjK6ux"
      },
      "id": "-P7pYlTjK6ux",
      "execution_count": null,
      "outputs": []
    },
    {
      "cell_type": "code",
      "source": [
        "# accessing the first key of the dict item containing our results\n",
        "first_key = list(counts.keys())[0]\n",
        "\n",
        "# turning that string into an integer\n",
        "# result is given in base 2, so we need to communicate that because the int() function assumes base 10 as default\n",
        "integer_value = int(first_key, 2)\n",
        "\n",
        "# returns our Magic 8 Ball response\n",
        "print(responses[integer_value])"
      ],
      "metadata": {
        "id": "VXns0Qcmd8fK"
      },
      "id": "VXns0Qcmd8fK",
      "execution_count": null,
      "outputs": []
    },
    {
      "cell_type": "markdown",
      "id": "a8e71158",
      "metadata": {
        "id": "a8e71158"
      },
      "source": [
        "### Developing your own program using the StatevectorSampler\n",
        "\n",
        "Now it's time to get your hands dirty with Python and Qiskit code. Your initial assignment, should you choose to accept it, will be to develop a program that samples one chocolate candy from a box that contains two pieces. The circuit that chooses a chocolate utilizes a singlet Bell state.\n",
        "\n",
        "Bell circuits are specific circuits which generate Bell states, or EPR pairs, a form of entangled and normalized basis vectors. In other words, they are the circuits we use to generate entangled states, a key ingredient in quantum computations.\n",
        "\n",
        "There exist 4 different Bell states. You can learn about each from the [Basics of Quantum Information page.](https://learning.quantum.ibm.com/course/basics-of-quantum-information/multiple-systems#bell-states)\n",
        "\n",
        "Your Task: please build a circuit that generates the  |𝜓−⟩  Bell state.\n"
      ]
    },
    {
      "cell_type": "markdown",
      "source": [
        "### Qiskit Patterns: Map problem to quantum circuits"
      ],
      "metadata": {
        "id": "6PZ22OHp2t9b"
      },
      "id": "6PZ22OHp2t9b"
    },
    {
      "cell_type": "code",
      "execution_count": null,
      "id": "977c2924",
      "metadata": {
        "id": "977c2924"
      },
      "outputs": [],
      "source": [
        "# Build a circuit to form a psi-minus Bell state\n",
        "# Apply gates to the provided QuantumCircuit, qc\n",
        "\n",
        "bell = QuantumCircuit(2)\n",
        "\n",
        "bell.h(0)\n",
        "bell.cx(0, 1)\n",
        "bell.z(0)\n",
        "bell.x(1)\n",
        "bell.measure_all()\n",
        "\n",
        "bell.draw(\"mpl\")"
      ]
    },
    {
      "cell_type": "markdown",
      "source": [
        "### Qiskit Patterns: Optimize for target hardware"
      ],
      "metadata": {
        "id": "3xvF_Ml72yJu"
      },
      "id": "3xvF_Ml72yJu"
    },
    {
      "cell_type": "code",
      "source": [
        "service = QiskitRuntimeService(channel=\"ibm_quantum\")\n",
        "backend = service.least_busy(simulator=False, operational=True)\n",
        "backend.name"
      ],
      "metadata": {
        "id": "jz72e2ylOjyb"
      },
      "id": "jz72e2ylOjyb",
      "execution_count": null,
      "outputs": []
    },
    {
      "cell_type": "code",
      "source": [
        "pm = generate_preset_pass_manager(backend=backend, optimization_level=1)\n",
        "isa_circuit = pm.run(bell)\n",
        "\n",
        "isa_circuit.draw('mpl', idle_wires=False)"
      ],
      "metadata": {
        "id": "1L2VKtoWOoFL"
      },
      "id": "1L2VKtoWOoFL",
      "execution_count": null,
      "outputs": []
    },
    {
      "cell_type": "markdown",
      "source": [
        "### Qiskit Patterns: Execute on target hardware"
      ],
      "metadata": {
        "id": "dE26qt5b21vm"
      },
      "id": "dE26qt5b21vm"
    },
    {
      "cell_type": "code",
      "source": [
        "sampler = Sampler(mode=backend)\n",
        "job = sampler.run([isa_circuit], shots=1024)\n",
        "print(job.job_id())"
      ],
      "metadata": {
        "id": "tbqSO1tHOunX"
      },
      "id": "tbqSO1tHOunX",
      "execution_count": null,
      "outputs": []
    },
    {
      "cell_type": "markdown",
      "source": [
        "### Qiskit Patterns: Post-process results"
      ],
      "metadata": {
        "id": "USWo7pkd26sh"
      },
      "id": "USWo7pkd26sh"
    },
    {
      "cell_type": "code",
      "source": [
        "from qiskit_ibm_runtime import QiskitRuntimeService\n",
        "\n",
        "service = QiskitRuntimeService(\n",
        "    channel='ibm_quantum',\n",
        "    instance='ibm-q/open/main',\n",
        "    token='YOURTOKENHERE'\n",
        ")\n",
        "job = service.job('YOURJOBID')\n",
        "job_result = job.result()"
      ],
      "metadata": {
        "id": "fMcQUEv2OvTK"
      },
      "id": "fMcQUEv2OvTK",
      "execution_count": null,
      "outputs": []
    },
    {
      "cell_type": "code",
      "source": [
        "counts = job_result[0].data.meas.get_counts()\n",
        "print(counts)"
      ],
      "metadata": {
        "id": "ddMgzUQCOz_g"
      },
      "id": "ddMgzUQCOz_g",
      "execution_count": null,
      "outputs": []
    },
    {
      "cell_type": "code",
      "source": [
        "# plot results\n",
        "plot_histogram(counts)"
      ],
      "metadata": {
        "id": "CaGr8C9QO3EB"
      },
      "id": "CaGr8C9QO3EB",
      "execution_count": null,
      "outputs": []
    },
    {
      "cell_type": "markdown",
      "id": "ecd72653",
      "metadata": {
        "id": "ecd72653"
      },
      "source": [
        "For an additional challenge, please develop a program that samples one chocolate candy from a box that contains three pieces. The circuit that chooses a chocolate utilizes a W-state, in this case consisting of three qubits.\n",
        "\n",
        "Next, we will develop a slightly more complicated circuit. Similarly to Bell states circuit producing Bell states, W-state circuits produce W states. Although Bell states entangle two qubits, W-states entangle three qubits. We will provide some specifics of the operation for today. If you are interested in learning more about W-states, check out this [Wikipedia article.](https://en.wikipedia.org/wiki/W_state)\n",
        "\n",
        "To build our W-state, we will follow 6 simple steps:\n",
        "- Initialize our 3 qubit circuit\n",
        "- Perform an Ry rotation on our qubit. The specifics of this operation are provided.\n",
        "- Perform a controlled hadamard gate on qubit 1, with control qubit 0\n",
        "- Add a CNOT gate with control qubit 1 and target qubit 2\n",
        "- Add a CNOT gate with control qubit 0 and target qubit 1\n",
        "- Add a X gate on qubit 0"
      ]
    },
    {
      "cell_type": "markdown",
      "source": [
        "### Qiskit Patterns: Map problem to quantum circuits"
      ],
      "metadata": {
        "id": "mjy4i1MY2_6K"
      },
      "id": "mjy4i1MY2_6K"
    },
    {
      "cell_type": "code",
      "execution_count": null,
      "id": "93d34dc1",
      "metadata": {
        "id": "93d34dc1"
      },
      "outputs": [],
      "source": [
        "# Let's create and draw a W-state circuit\n",
        "\n",
        "wstate = QuantumCircuit(3)\n",
        "\n",
        "wstate.ry(1.91063324, 0)\n",
        "\n",
        "# below is filled in for purposes of testing the lab, on the day of we will have them fill this in themselves\n",
        "\n",
        "wstate.ch(0, 1)\n",
        "wstate.cx(1, 2)\n",
        "wstate.cx(0, 1)\n",
        "wstate.x(0)\n",
        "wstate.measure_all()\n",
        "\n",
        "wstate.draw(\"mpl\")"
      ]
    },
    {
      "cell_type": "markdown",
      "source": [
        "### Qiskit Patterns: Optimize for target hardware"
      ],
      "metadata": {
        "id": "wSHOSs6d3HFS"
      },
      "id": "wSHOSs6d3HFS"
    },
    {
      "cell_type": "code",
      "source": [
        "service = QiskitRuntimeService(channel=\"ibm_quantum\")\n",
        "backend = service.least_busy(simulator=False, operational=True)\n",
        "backend.name"
      ],
      "metadata": {
        "id": "luZm2PNLO5kd"
      },
      "id": "luZm2PNLO5kd",
      "execution_count": null,
      "outputs": []
    },
    {
      "cell_type": "code",
      "source": [
        "pm = generate_preset_pass_manager(backend=backend, optimization_level=1)\n",
        "isa_circuit = pm.run(wstate)\n",
        "\n",
        "isa_circuit.draw('mpl', idle_wires=False)"
      ],
      "metadata": {
        "id": "ubV7Pro0O8yL"
      },
      "id": "ubV7Pro0O8yL",
      "execution_count": null,
      "outputs": []
    },
    {
      "cell_type": "markdown",
      "source": [
        "### Qiskit Patterns: Execute on target hardware"
      ],
      "metadata": {
        "id": "mm5-FqIS3MMI"
      },
      "id": "mm5-FqIS3MMI"
    },
    {
      "cell_type": "code",
      "source": [
        "sampler = Sampler(mode=backend)\n",
        "job = sampler.run([isa_circuit], shots=1024)\n",
        "print(job.job_id())"
      ],
      "metadata": {
        "id": "O5Ulb8sEO-5D"
      },
      "id": "O5Ulb8sEO-5D",
      "execution_count": null,
      "outputs": []
    },
    {
      "cell_type": "markdown",
      "source": [
        "### Qiskit Patterns: Post-process results"
      ],
      "metadata": {
        "id": "ORdiifes3Zl1"
      },
      "id": "ORdiifes3Zl1"
    },
    {
      "cell_type": "code",
      "source": [
        "from qiskit_ibm_runtime import QiskitRuntimeService\n",
        "\n",
        "service = QiskitRuntimeService(\n",
        "    channel='ibm_quantum',\n",
        "    instance='ibm-q/open/main',\n",
        "    token='YOURTOKENHERE'\n",
        ")\n",
        "job = service.job('YOURJOBID')\n",
        "job_result = job.result()"
      ],
      "metadata": {
        "id": "LuBVbyGpPB-N"
      },
      "id": "LuBVbyGpPB-N",
      "execution_count": null,
      "outputs": []
    },
    {
      "cell_type": "code",
      "source": [
        "counts = job_result[0].data.meas.get_counts()\n",
        "print(counts)"
      ],
      "metadata": {
        "id": "ztKjY35UPDpf"
      },
      "id": "ztKjY35UPDpf",
      "execution_count": null,
      "outputs": []
    },
    {
      "cell_type": "code",
      "source": [
        "# plot results\n",
        "plot_histogram(counts)"
      ],
      "metadata": {
        "id": "wiQaVH2BPGSA"
      },
      "id": "wiQaVH2BPGSA",
      "execution_count": null,
      "outputs": []
    }
  ],
  "metadata": {
    "kernelspec": {
      "display_name": "Python 3 (ipykernel)",
      "language": "python",
      "name": "python3"
    },
    "language_info": {
      "codemirror_mode": {
        "name": "ipython",
        "version": 3
      },
      "file_extension": ".py",
      "mimetype": "text/x-python",
      "name": "python",
      "nbconvert_exporter": "python",
      "pygments_lexer": "ipython3",
      "version": "3.9.7"
    },
    "colab": {
      "provenance": [],
      "include_colab_link": true
    }
  },
  "nbformat": 4,
  "nbformat_minor": 5
}