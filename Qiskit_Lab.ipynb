{
  "cells": [
    {
      "cell_type": "markdown",
      "metadata": {
        "id": "view-in-github",
        "colab_type": "text"
      },
      "source": [
        "<a href=\"https://colab.research.google.com/github/annaliese-estes/techxchange-lab-2024/blob/main/Qiskit_Lab.ipynb\" target=\"_parent\"><img src=\"https://colab.research.google.com/assets/colab-badge.svg\" alt=\"Open In Colab\"/></a>"
      ]
    },
    {
      "cell_type": "markdown",
      "id": "859c8b3f",
      "metadata": {
        "id": "859c8b3f"
      },
      "source": [
        "\n",
        "# Qiskit Runtime Lab\n",
        "\n",
        "Instructors:  \n",
        "Annaliese Estes  \n",
        "James Weaver\n",
        "\n",
        "Email:  \n",
        "annaliese.estes@ibm.com  \n",
        "james.weaver@ibm.com\n",
        "\n",
        "## Introducing this hands-on lab\n",
        "\n",
        "This hands-on lab is a gentle introduction to quantum computing with Qiskit. This lab leverages some the latest innovations from IBM Quantum, such as Qiskit Runtime, and will help you get up to speed on the following topics and skills:\n",
        "\n",
        "- Creating quantum circuits:\n",
        "    - Visually, using the IBM Quantum Composer\n",
        "    - Procedurally, using Python and the Qiskit library\n",
        "- Executing quantum circuits from the Composer, and by using Qiskit Runtime Primitives\n",
        "- Leveraging the Qiskit Sampler primitive\n",
        "- Executing circuits on IBM Quantum computers\n",
        "\n",
        "Along the way, we'll introduce you to the brand new IBM Quantum platform, which is continually being augmented and improved. There are links to specific resources on the platform in which you'll implement the instructions of this hands-on lab as well as gain information helpful in carrying out those steps. *Note: You may find it helpful to open these links in separate tabs so that this syllabus remains open.*\n",
        "\n",
        "You may access this lab at any time at *link* so don't be concerned about finishing in the allotted time. It is often better to spend time internalizing concepts than to rush through the learning process. We'll begin the journey with an overview of the IBM Quantum platform.\n",
        "\n",
        "## Surveying the IBM Quantum Platform\n",
        "\n",
        "Go ahead and sign in to [IBM Quantum](https://quantum.ibm.com), creating an account if you don't already have one. Then, let's take some time to get familiar with the IBM Quantum platform, beginning with clicking the \"nine dot\" icon in the upper right corner of its interface and briefly visiting the Platform, Documentation and Learning options.\n",
        "\n",
        "Let's continue the journey by creating a quantum circuit in the IBM Quantum Composer.\n",
        "\n",
        "## Creating a quantum circuit in the IBM Quantum Composer\n",
        "\n",
        "Go ahead and navigate to the IBM Quantum Composer from the IBM Quantum platform by selecting Learning from the “nine dot” icon, and then selecting Composer from the IBM Quantum Learning page options. When you are in the IBM Quantum Composer, perform the following steps:\n",
        "\n",
        "1. Open the Composer docs & tutorials slide-out pane on the left\n",
        "\n",
        "2. Select the Create your first circuit walkthrough option, clicking Next to visit each step in the process.\n",
        "\n",
        "3. Now you will create your own circuit, using the foundation you created during the walkthrough. Instead of the two-qubit ϕ+ Bell state shown in the walkthrough, create a two-qubit ψ− Bell state, also called a singlet Bell state. Hint: Strategically placed X and Z gates will turn the ϕ+ Bell state into a ψ− Bell state. You can learn about each of the 4 different Bell states from the [Basics of Quantum Information page.](https://learning.quantum.ibm.com/course/basics-of-quantum-information/multiple-systems#bell-states) Please ask for help if you're stuck, as this step can be overwhelming to folks new to quantum computing.\n",
        "\n",
        "4. The resultant Probabilities histogram visualization should indicate 50% probabilities of the 01 and 10 computational basis states being the result of measuring the quantum state.\n",
        "\n",
        "5. The resultant Statevector histogram and Q-sphere visualizations (after temporarily removing the measurement operations) should indicate that the amplitudes and probabilities of the 01 and 10 computational basis states are equal to each other, but in opposite phases.\n",
        "\n",
        "*Note: If you'd like to learn more, select the \"Explore the latest updates option\", clicking Next to learn about each new feature.*\n",
        "\n",
        "Nice work! Let's move on to executing your quantum circuit from the IBM Quantum Composer.\n",
        "\n",
        "## Executing your quantum circuit from the IBM Quantum Composer\n",
        "\n",
        "To execute your quantum circuit from the IBM Quantum Composer, perform the following steps:\n",
        "\n",
        "1. Click the Setup and Run button located near the upper right corner of the interface.\n",
        "\n",
        "2. A pane labeled Setup and run your circuit should slide out from the right.\n",
        "\n",
        "3. Choose a quantum system to run the circuit on. You'll want to choose a system with the lowest number of pending jobs.\n",
        "\n",
        "4. Click the Run on button in the lower right corner of the interface.\n",
        "\n",
        "5. Click on the circular Composer jobs icon on the left side of the interface to see details about your job. Notice how the circuit looks different from how you laid it out on the Composer- this is because it has been transpiled to the native gate set, and laid out in an optimal fashion, for the quantum computer that you've chosen.\n",
        "\n",
        "6. When the job is finished, the Status timeline should indicate that it has Completed.\n",
        "\n",
        "7. Click the \"Details\", \"Results\" and \"See more details\" controls to learn what information about the job is available.\n",
        "\n",
        "8. Before you leave the IBM Quantum Composer, notice that the OpenQASM code that can create your circuit is shown in the rightmost pane. Clicking on the OpenQASM label and choosing Qiskit will reveal Python code that can create your circuit.\n",
        "\n",
        "Awesome! Next we'll explore how to create and run quantum circuits using Python, Qiskit libraries, and Qiskit Runtime.\n",
        "\n",
        "## Understanding Qiskit Primitives, and choosing your coding environment\n",
        "\n",
        "Here's a great [introduction](https://docs.quantum.ibm.com/guides/primitives) to Qiskit Runtime Primitives within the Qiskit Documentation.\n",
        "\n",
        "When working with Qiskit, you can use any environment where you have Python installed. For today's lab, please use [Google Colab](https://colab.research.google.com/).\n",
        "\n",
        "## Creating and running quantum circuits using Python and the Qiskit SDK\n",
        "\n",
        "Using your chosen environment, please populate that environment with the code in the following section."
      ]
    },
    {
      "cell_type": "markdown",
      "id": "87444477",
      "metadata": {
        "id": "87444477"
      },
      "source": [
        "# Magic 8 Ball\n",
        "\n",
        "Here, we will build a Magic 8 Ball program that randomly returns 1 of 8 possible responses. How do we use quantum computing to generate a random number? Computational space scales exponentially in quantum computing. Thus, if we need a random result out of 8 possibilities, our program needs to take a measurement of a quantum state vector that consists of 8 basis states, which represent the computational space of 3 qubits in an equal superposition.\n",
        "\n",
        "## Qiskit Patterns: Map Problem to Quantum Circuits and Operators\n",
        "\n",
        "We can think of this step as mapping our problem to be run on a quantum computer. This step needs to be done for any quantum computation, because our instinct is to think of problems in a classical way, while quantum computers work differently.\n",
        "\n",
        "Problem:\n",
        "I need a program to generate a random number out of 8.\n",
        "\n",
        "Mapping to a classical computer: generate a random integer in range(1,9)\n",
        "\n",
        "Mapping to a quantum computer: put 3 qubits into an equal superposition, which creates a quantum state vector with 8 basis states, each with an equal probability of being the result of a measurement\n",
        "\n",
        "Because we aren't running on real hardware in this case, we won't be following the rest of the steps in [Qiskit Patterns](https://docs.quantum.ibm.com/guides/intro-to-patterns). However, later in this lab, we will introduce the final 3 steps: optimization, execution, and post-processing."
      ]
    },
    {
      "cell_type": "code",
      "execution_count": null,
      "id": "a81d31ee",
      "metadata": {
        "scrolled": true,
        "colab": {
          "base_uri": "https://localhost:8080/"
        },
        "id": "a81d31ee",
        "outputId": "bd574834-9a1c-4fd6-c6bc-18c1cf364d7e",
        "collapsed": true
      },
      "outputs": [
        {
          "output_type": "stream",
          "name": "stdout",
          "text": [
            "Collecting qiskit[visualization]\n",
            "  Downloading qiskit-1.1.1-cp38-abi3-manylinux_2_17_x86_64.manylinux2014_x86_64.whl.metadata (12 kB)\n",
            "Collecting rustworkx>=0.14.0 (from qiskit[visualization])\n",
            "  Downloading rustworkx-0.15.1-cp38-abi3-manylinux_2_17_x86_64.manylinux2014_x86_64.whl.metadata (9.9 kB)\n",
            "Requirement already satisfied: numpy<3,>=1.17 in /usr/local/lib/python3.10/dist-packages (from qiskit[visualization]) (1.25.2)\n",
            "Requirement already satisfied: scipy>=1.5 in /usr/local/lib/python3.10/dist-packages (from qiskit[visualization]) (1.11.4)\n",
            "Requirement already satisfied: sympy>=1.3 in /usr/local/lib/python3.10/dist-packages (from qiskit[visualization]) (1.13.1)\n",
            "Collecting dill>=0.3 (from qiskit[visualization])\n",
            "  Downloading dill-0.3.8-py3-none-any.whl.metadata (10 kB)\n",
            "Requirement already satisfied: python-dateutil>=2.8.0 in /usr/local/lib/python3.10/dist-packages (from qiskit[visualization]) (2.8.2)\n",
            "Collecting stevedore>=3.0.0 (from qiskit[visualization])\n",
            "  Downloading stevedore-5.2.0-py3-none-any.whl.metadata (2.3 kB)\n",
            "Requirement already satisfied: typing-extensions in /usr/local/lib/python3.10/dist-packages (from qiskit[visualization]) (4.12.2)\n",
            "Collecting symengine>=0.11 (from qiskit[visualization])\n",
            "  Downloading symengine-0.11.0-cp310-cp310-manylinux_2_12_x86_64.manylinux2010_x86_64.whl.metadata (1.2 kB)\n",
            "Requirement already satisfied: matplotlib>=3.3 in /usr/local/lib/python3.10/dist-packages (from qiskit[visualization]) (3.7.1)\n",
            "Requirement already satisfied: pydot in /usr/local/lib/python3.10/dist-packages (from qiskit[visualization]) (1.4.2)\n",
            "Requirement already satisfied: Pillow>=4.2.1 in /usr/local/lib/python3.10/dist-packages (from qiskit[visualization]) (9.4.0)\n",
            "Collecting pylatexenc>=1.4 (from qiskit[visualization])\n",
            "  Downloading pylatexenc-2.10.tar.gz (162 kB)\n",
            "\u001b[2K     \u001b[90m━━━━━━━━━━━━━━━━━━━━━━━━━━━━━━━━━━━━━━━━\u001b[0m \u001b[32m162.6/162.6 kB\u001b[0m \u001b[31m2.1 MB/s\u001b[0m eta \u001b[36m0:00:00\u001b[0m\n",
            "\u001b[?25h  Preparing metadata (setup.py) ... \u001b[?25l\u001b[?25hdone\n",
            "Requirement already satisfied: seaborn>=0.9.0 in /usr/local/lib/python3.10/dist-packages (from qiskit[visualization]) (0.13.1)\n",
            "Requirement already satisfied: contourpy>=1.0.1 in /usr/local/lib/python3.10/dist-packages (from matplotlib>=3.3->qiskit[visualization]) (1.2.1)\n",
            "Requirement already satisfied: cycler>=0.10 in /usr/local/lib/python3.10/dist-packages (from matplotlib>=3.3->qiskit[visualization]) (0.12.1)\n",
            "Requirement already satisfied: fonttools>=4.22.0 in /usr/local/lib/python3.10/dist-packages (from matplotlib>=3.3->qiskit[visualization]) (4.53.1)\n",
            "Requirement already satisfied: kiwisolver>=1.0.1 in /usr/local/lib/python3.10/dist-packages (from matplotlib>=3.3->qiskit[visualization]) (1.4.5)\n",
            "Requirement already satisfied: packaging>=20.0 in /usr/local/lib/python3.10/dist-packages (from matplotlib>=3.3->qiskit[visualization]) (24.1)\n",
            "Requirement already satisfied: pyparsing>=2.3.1 in /usr/local/lib/python3.10/dist-packages (from matplotlib>=3.3->qiskit[visualization]) (3.1.2)\n",
            "Requirement already satisfied: six>=1.5 in /usr/local/lib/python3.10/dist-packages (from python-dateutil>=2.8.0->qiskit[visualization]) (1.16.0)\n",
            "Requirement already satisfied: pandas>=1.2 in /usr/local/lib/python3.10/dist-packages (from seaborn>=0.9.0->qiskit[visualization]) (2.0.3)\n",
            "Collecting pbr!=2.1.0,>=2.0.0 (from stevedore>=3.0.0->qiskit[visualization])\n",
            "  Downloading pbr-6.0.0-py2.py3-none-any.whl.metadata (1.3 kB)\n",
            "Requirement already satisfied: mpmath<1.4,>=1.1.0 in /usr/local/lib/python3.10/dist-packages (from sympy>=1.3->qiskit[visualization]) (1.3.0)\n",
            "Requirement already satisfied: pytz>=2020.1 in /usr/local/lib/python3.10/dist-packages (from pandas>=1.2->seaborn>=0.9.0->qiskit[visualization]) (2023.4)\n",
            "Requirement already satisfied: tzdata>=2022.1 in /usr/local/lib/python3.10/dist-packages (from pandas>=1.2->seaborn>=0.9.0->qiskit[visualization]) (2024.1)\n",
            "Downloading dill-0.3.8-py3-none-any.whl (116 kB)\n",
            "\u001b[2K   \u001b[90m━━━━━━━━━━━━━━━━━━━━━━━━━━━━━━━━━━━━━━━━\u001b[0m \u001b[32m116.3/116.3 kB\u001b[0m \u001b[31m5.2 MB/s\u001b[0m eta \u001b[36m0:00:00\u001b[0m\n",
            "\u001b[?25hDownloading rustworkx-0.15.1-cp38-abi3-manylinux_2_17_x86_64.manylinux2014_x86_64.whl (2.0 MB)\n",
            "\u001b[2K   \u001b[90m━━━━━━━━━━━━━━━━━━━━━━━━━━━━━━━━━━━━━━━━\u001b[0m \u001b[32m2.0/2.0 MB\u001b[0m \u001b[31m13.6 MB/s\u001b[0m eta \u001b[36m0:00:00\u001b[0m\n",
            "\u001b[?25hDownloading stevedore-5.2.0-py3-none-any.whl (49 kB)\n",
            "\u001b[2K   \u001b[90m━━━━━━━━━━━━━━━━━━━━━━━━━━━━━━━━━━━━━━━━\u001b[0m \u001b[32m49.7/49.7 kB\u001b[0m \u001b[31m2.1 MB/s\u001b[0m eta \u001b[36m0:00:00\u001b[0m\n",
            "\u001b[?25hDownloading symengine-0.11.0-cp310-cp310-manylinux_2_12_x86_64.manylinux2010_x86_64.whl (39.4 MB)\n",
            "\u001b[2K   \u001b[90m━━━━━━━━━━━━━━━━━━━━━━━━━━━━━━━━━━━━━━━━\u001b[0m \u001b[32m39.4/39.4 MB\u001b[0m \u001b[31m19.6 MB/s\u001b[0m eta \u001b[36m0:00:00\u001b[0m\n",
            "\u001b[?25hDownloading qiskit-1.1.1-cp38-abi3-manylinux_2_17_x86_64.manylinux2014_x86_64.whl (4.3 MB)\n",
            "\u001b[2K   \u001b[90m━━━━━━━━━━━━━━━━━━━━━━━━━━━━━━━━━━━━━━━━\u001b[0m \u001b[32m4.3/4.3 MB\u001b[0m \u001b[31m45.4 MB/s\u001b[0m eta \u001b[36m0:00:00\u001b[0m\n",
            "\u001b[?25hDownloading pbr-6.0.0-py2.py3-none-any.whl (107 kB)\n",
            "\u001b[2K   \u001b[90m━━━━━━━━━━━━━━━━━━━━━━━━━━━━━━━━━━━━━━━━\u001b[0m \u001b[32m107.5/107.5 kB\u001b[0m \u001b[31m5.7 MB/s\u001b[0m eta \u001b[36m0:00:00\u001b[0m\n",
            "\u001b[?25hBuilding wheels for collected packages: pylatexenc\n",
            "  Building wheel for pylatexenc (setup.py) ... \u001b[?25l\u001b[?25hdone\n",
            "  Created wheel for pylatexenc: filename=pylatexenc-2.10-py3-none-any.whl size=136817 sha256=78f6a81fb3a3eb267a9eb9929b7303618016e69067ba6d18bf902bc7a7d6dc1b\n",
            "  Stored in directory: /root/.cache/pip/wheels/d3/31/8b/e09b0386afd80cfc556c00408c9aeea5c35c4d484a9c762fd5\n",
            "Successfully built pylatexenc\n",
            "Installing collected packages: pylatexenc, symengine, rustworkx, pbr, dill, stevedore, qiskit\n",
            "Successfully installed dill-0.3.8 pbr-6.0.0 pylatexenc-2.10 qiskit-1.1.1 rustworkx-0.15.1 stevedore-5.2.0 symengine-0.11.0\n"
          ]
        }
      ],
      "source": [
        "# install Qiskit with visualization\n",
        "\n",
        "!pip install qiskit[visualization]"
      ]
    },
    {
      "cell_type": "code",
      "execution_count": null,
      "id": "d32bc7b5",
      "metadata": {
        "id": "d32bc7b5"
      },
      "outputs": [],
      "source": [
        "# install additional packages\n",
        "\n",
        "from qiskit import QuantumCircuit\n",
        "from qiskit.visualization import plot_histogram\n",
        "from qiskit.primitives import StatevectorSampler"
      ]
    },
    {
      "cell_type": "code",
      "execution_count": null,
      "id": "dff395a3",
      "metadata": {
        "id": "dff395a3"
      },
      "outputs": [],
      "source": [
        "# define Magic 8 Ball responses\n",
        "\n",
        "responses = [\"Yes\", \"Definitely\", \"Not today\", \"Try again\", \"Not likely\", \"Answer unclear\", \"Outlook not so good\", \"Signs point to yes\"]"
      ]
    },
    {
      "cell_type": "code",
      "execution_count": null,
      "id": "1568e5ff",
      "metadata": {
        "colab": {
          "base_uri": "https://localhost:8080/",
          "height": 320
        },
        "id": "1568e5ff",
        "outputId": "1db860e1-ea6f-46c7-e763-69bf991e86e8"
      },
      "outputs": [
        {
          "output_type": "execute_result",
          "data": {
            "text/plain": [
              "<Figure size 580.387x367.889 with 1 Axes>"
            ],
            "image/png": "[encoded data removed]"
          },
          "metadata": {},
          "execution_count": 5
        }
      ],
      "source": [
        "# set up our Quantum circuit with 3 qubits\n",
        "qc = QuantumCircuit(3)\n",
        "\n",
        "# place a Hadamard gate on qubits 0, 1, and 2\n",
        "qc.h(0)\n",
        "qc.h(1)\n",
        "qc.h(2)\n",
        "\n",
        "# take a measurement\n",
        "qc.measure_all()\n",
        "\n",
        "qc.draw(\"mpl\")"
      ]
    },
    {
      "cell_type": "code",
      "execution_count": null,
      "id": "e7dc87be",
      "metadata": {
        "colab": {
          "base_uri": "https://localhost:8080/"
        },
        "id": "e7dc87be",
        "outputId": "ab7a7458-10d8-459a-fae8-7d88d9742c22"
      },
      "outputs": [
        {
          "output_type": "stream",
          "name": "stdout",
          "text": [
            "{'011': 1}\n"
          ]
        }
      ],
      "source": [
        "# invoke the Sampler and display resulting measurement\n",
        "\n",
        "sampler = StatevectorSampler()\n",
        "pub = (qc)\n",
        "job_sampler = sampler.run([pub], shots=1)\n",
        "\n",
        "result_sampler = job_sampler.result()\n",
        "counts_sampler = result_sampler[0].data.meas.get_counts()\n",
        "\n",
        "print(counts_sampler)"
      ]
    },
    {
      "cell_type": "code",
      "execution_count": null,
      "id": "82fec05c",
      "metadata": {
        "colab": {
          "base_uri": "https://localhost:8080/"
        },
        "id": "82fec05c",
        "outputId": "ea22c73d-f116-4bd8-aa2a-286225fbe3fa"
      },
      "outputs": [
        {
          "output_type": "stream",
          "name": "stdout",
          "text": [
            "Try again\n"
          ]
        }
      ],
      "source": [
        "# accessing the first key of the dict item containing our results\n",
        "\n",
        "first_key = list(counts_sampler.keys())[0]\n",
        "\n",
        "# turning that string into an integer\n",
        "# result is given in base 2, so we need to communicate that because the int() function assumes base 10 as default\n",
        "\n",
        "integer_value = int(first_key, 2)\n",
        "\n",
        "print(responses[integer_value])"
      ]
    },
    {
      "cell_type": "markdown",
      "id": "a8e71158",
      "metadata": {
        "id": "a8e71158"
      },
      "source": [
        "### Developing a program that leverages the Qiskit Sampler primitive\n",
        "\n",
        "Now it's time to get your hands dirty with Python and Qiskit code. Your initial assignment, should you choose to accept it, will be to develop a program that samples one chocolate candy from a box that contains two pieces. The circuit that chooses a chocolate utilizes a singlet Bell state.\n",
        "\n",
        "Bell circuits are specific circuits which generate Bell states, or EPR pairs, a form of entangled and normalized basis vectors. In other words, they are the circuits we use to generate entangled states, a key ingredient in quantum computations.\n",
        "\n",
        "There exist 4 different Bell states. You can learn about each from the [Basics of Quantum Information page.](https://learning.quantum.ibm.com/course/basics-of-quantum-information/multiple-systems#bell-states)\n",
        "\n",
        "Your Task: please build a circuit that generates the  |𝜓−⟩  Bell state.\n"
      ]
    },
    {
      "cell_type": "code",
      "execution_count": null,
      "id": "977c2924",
      "metadata": {
        "colab": {
          "base_uri": "https://localhost:8080/",
          "height": 122
        },
        "id": "977c2924",
        "outputId": "768726f5-16fe-4217-e8ec-60d3c36ed99c"
      },
      "outputs": [
        {
          "output_type": "execute_result",
          "data": {
            "text/plain": [
              "        ┌───┐     ┌───┐ ░ ┌─┐   \n",
              "   q_0: ┤ H ├──■──┤ Z ├─░─┤M├───\n",
              "        └───┘┌─┴─┐├───┤ ░ └╥┘┌─┐\n",
              "   q_1: ─────┤ X ├┤ X ├─░──╫─┤M├\n",
              "             └───┘└───┘ ░  ║ └╥┘\n",
              "meas: 2/═══════════════════╩══╩═\n",
              "                           0  1 "
            ],
            "text/html": [
              "<pre style=\"word-wrap: normal;white-space: pre;background: #fff0;line-height: 1.1;font-family: &quot;Courier New&quot;,Courier,monospace\">        ┌───┐     ┌───┐ ░ ┌─┐   \n",
              "   q_0: ┤ H ├──■──┤ Z ├─░─┤M├───\n",
              "        └───┘┌─┴─┐├───┤ ░ └╥┘┌─┐\n",
              "   q_1: ─────┤ X ├┤ X ├─░──╫─┤M├\n",
              "             └───┘└───┘ ░  ║ └╥┘\n",
              "meas: 2/═══════════════════╩══╩═\n",
              "                           0  1 </pre>"
            ]
          },
          "metadata": {},
          "execution_count": 8
        }
      ],
      "source": [
        "# Build a circuit to form a psi-minus Bell state\n",
        "# Apply gates to the provided QuantumCircuit, qc\n",
        "\n",
        "qc = QuantumCircuit(2)\n",
        "\n",
        "qc.h(0)\n",
        "qc.cx(0, 1)\n",
        "qc.z(0)\n",
        "qc.x(1)\n",
        "qc.measure_all()\n",
        "\n",
        "qc.draw()"
      ]
    },
    {
      "cell_type": "code",
      "execution_count": null,
      "id": "b7f3db77",
      "metadata": {
        "colab": {
          "base_uri": "https://localhost:8080/"
        },
        "id": "b7f3db77",
        "outputId": "019a148d-0707-4cd3-de69-2fe2bace674f"
      },
      "outputs": [
        {
          "output_type": "stream",
          "name": "stdout",
          "text": [
            "{'10': 502, '01': 498}\n"
          ]
        }
      ],
      "source": [
        "# Invoke the Sampler and display the results\n",
        "\n",
        "sampler = StatevectorSampler()\n",
        "pub = (qc)\n",
        "job_sampler = sampler.run([pub], shots=1000)\n",
        "\n",
        "result_sampler = job_sampler.result()\n",
        "counts_sampler = result_sampler[0].data.meas.get_counts()\n",
        "\n",
        "print(counts_sampler)"
      ]
    },
    {
      "cell_type": "code",
      "execution_count": null,
      "id": "a0671ab4",
      "metadata": {
        "colab": {
          "base_uri": "https://localhost:8080/",
          "height": 437
        },
        "id": "a0671ab4",
        "outputId": "ad420fc1-8f5d-4e7b-ebe9-9ace5b27a755"
      },
      "outputs": [
        {
          "output_type": "execute_result",
          "data": {
            "text/plain": [
              "<Figure size 640x480 with 1 Axes>"
            ],
            "image/png": "[encoded data removed]"
          },
          "metadata": {},
          "execution_count": 10
        }
      ],
      "source": [
        "plot_histogram(counts_sampler)"
      ]
    },
    {
      "cell_type": "markdown",
      "id": "ecd72653",
      "metadata": {
        "id": "ecd72653"
      },
      "source": [
        "For an additional challenge, please develop a program that samples one chocolate candy from a box that contains three pieces. The circuit that chooses a chocolate utilizes a W-state, in this case consisting of three qubits.\n",
        "\n",
        "Next, we will develop a slightly more complicated circuit. Similarly to Bell states circuit producing Bell states, W-state circuits produce W states. Although Bell states entangle two qubits, W-states entangle three qubits. We will provide some specifics of the operation for today. If you are interested in learning more about W-states, check out this [Wikipedia article.](https://en.wikipedia.org/wiki/W_state)\n",
        "\n",
        "To build our W-state, we will follow 6 simple steps:\n",
        "- Initialize our 3 qubit circuit\n",
        "- Perform an Ry rotation on our qubit. The specifics of this operation are provided.\n",
        "- Perform a controlled hadamard gate on qubit 1, with control qubit 0\n",
        "- Add a CNOT gate with control qubit 1 and target qubit 2\n",
        "- Add a CNOT gate with control qubit 0 and target qubit 1\n",
        "- Add a X gate on qubit 0"
      ]
    },
    {
      "cell_type": "code",
      "execution_count": null,
      "id": "93d34dc1",
      "metadata": {
        "colab": {
          "base_uri": "https://localhost:8080/",
          "height": 152
        },
        "id": "93d34dc1",
        "outputId": "3b782d5c-eddd-40f3-c2c2-f4925cac558e"
      },
      "outputs": [
        {
          "output_type": "execute_result",
          "data": {
            "text/plain": [
              "        ┌────────────┐               ┌───┐ ░ ┌─┐      \n",
              "   q_0: ┤ Ry(1.9106) ├──■─────────■──┤ X ├─░─┤M├──────\n",
              "        └────────────┘┌─┴─┐     ┌─┴─┐└───┘ ░ └╥┘┌─┐   \n",
              "   q_1: ──────────────┤ H ├──■──┤ X ├──────░──╫─┤M├───\n",
              "                      └───┘┌─┴─┐└───┘      ░  ║ └╥┘┌─┐\n",
              "   q_2: ───────────────────┤ X ├───────────░──╫──╫─┤M├\n",
              "                           └───┘           ░  ║  ║ └╥┘\n",
              "meas: 3/══════════════════════════════════════╩══╩══╩═\n",
              "                                              0  1  2 "
            ],
            "text/html": [
              "<pre style=\"word-wrap: normal;white-space: pre;background: #fff0;line-height: 1.1;font-family: &quot;Courier New&quot;,Courier,monospace\">        ┌────────────┐               ┌───┐ ░ ┌─┐      \n",
              "   q_0: ┤ Ry(1.9106) ├──■─────────■──┤ X ├─░─┤M├──────\n",
              "        └────────────┘┌─┴─┐     ┌─┴─┐└───┘ ░ └╥┘┌─┐   \n",
              "   q_1: ──────────────┤ H ├──■──┤ X ├──────░──╫─┤M├───\n",
              "                      └───┘┌─┴─┐└───┘      ░  ║ └╥┘┌─┐\n",
              "   q_2: ───────────────────┤ X ├───────────░──╫──╫─┤M├\n",
              "                           └───┘           ░  ║  ║ └╥┘\n",
              "meas: 3/══════════════════════════════════════╩══╩══╩═\n",
              "                                              0  1  2 </pre>"
            ]
          },
          "metadata": {},
          "execution_count": 11
        }
      ],
      "source": [
        "# Let's create and draw a W-state circuit\n",
        "\n",
        "qc = QuantumCircuit(3)\n",
        "\n",
        "qc.ry(1.91063324, 0)\n",
        "\n",
        "# below is filled in for purposes of testing the lab, on the day of we will have them fill this in themselves\n",
        "\n",
        "qc.ch(0, 1)\n",
        "qc.cx(1, 2)\n",
        "qc.cx(0, 1)\n",
        "qc.x(0)\n",
        "qc.measure_all()\n",
        "\n",
        "qc.draw()"
      ]
    },
    {
      "cell_type": "code",
      "execution_count": null,
      "id": "cc8a8f41",
      "metadata": {
        "colab": {
          "base_uri": "https://localhost:8080/"
        },
        "id": "cc8a8f41",
        "outputId": "51f3b43e-f177-425a-eb3f-868e0852acfe"
      },
      "outputs": [
        {
          "output_type": "stream",
          "name": "stdout",
          "text": [
            "{'001': 321, '010': 340, '100': 339}\n"
          ]
        }
      ],
      "source": [
        "# Invoke the Sampler and display results\n",
        "\n",
        "sampler = StatevectorSampler()\n",
        "pub = (qc)\n",
        "job_sampler = sampler.run([pub], shots=1000)\n",
        "\n",
        "result_sampler = job_sampler.result()\n",
        "counts_sampler = result_sampler[0].data.meas.get_counts()\n",
        "\n",
        "print(counts_sampler)"
      ]
    },
    {
      "cell_type": "code",
      "execution_count": null,
      "id": "9922ec60",
      "metadata": {
        "colab": {
          "base_uri": "https://localhost:8080/",
          "height": 445
        },
        "id": "9922ec60",
        "outputId": "b5a5aa7a-2338-4b8f-c387-fde5fe6bbda4"
      },
      "outputs": [
        {
          "output_type": "execute_result",
          "data": {
            "text/plain": [
              "<Figure size 640x480 with 1 Axes>"
            ],
            "image/png": "[encoded data removed]"
          },
          "metadata": {},
          "execution_count": 13
        }
      ],
      "source": [
        "plot_histogram(counts_sampler)"
      ]
    },
    {
      "cell_type": "markdown",
      "id": "e4752ebf",
      "metadata": {
        "id": "e4752ebf"
      },
      "source": [
        "# Next Steps\n",
        "Congratulations on completing this introductory Qiskit Runtime Lab! Let's recap what you've learned so far:\n",
        "1. **IBM Quantum Platform Overview**\n",
        "   - Explored the platform's interface\n",
        "   - Familiarized with Documentation and Learning sections\n",
        "2. **IBM Quantum Composer**\n",
        "   - Created a quantum circuit visually (two-qubit ψ− Bell state)\n",
        "   - Executed the circuit and interpreted results through visualizations\n",
        "3. **Quantum Circuit Creation and Execution**\n",
        "   - Built a \"Magic 8 Ball\" program using a 3-qubit quantum circuit\n",
        "   - Learned to use the Qiskit StatevectorSampler for circuit execution\n",
        "4. **Creating Quantum States**\n",
        "   - Created a circuit for the ψ− Bell state and sampled from it\n",
        "   - Built a more complex W-state circuit with 3 qubits\n",
        "\n",
        "Throughout these exercises, you've gained hands-on experience with quantum circuit design, execution, and result interpretation using both visual (Composer) and programmatic (Python/Qiskit) approaches.\n",
        "Now that you have a solid foundation, let's explore some next steps to further your quantum computing journey. You might explore these now, if there is time remaining in today's lab, or any time in the future:\n",
        "\n",
        "We encourage you to check out the [Qiskit \"Hello World\" problem](https://docs.quantum.ibm.com/guides/hello-world) run by Derek Wang as part of the Qiskit Youtube series: \"Coding with Qiskit 1.0\". We strongly encourage that you watch the linked video, rather than working through the code on your own. Derek talks through the Estimator Primitive, which we only briefly touched on today, and he also walks you through the 4 steps of Qiskit Patterns.\n",
        "\n",
        "To continue your learning on your own, we recommend checking out the courses & tutorials on the [IBM Quantum Platform](https://quantum.ibm.com), and the [Qiskit Youtube channel](https://www.youtube.com/@qiskit)."
      ]
    }
  ],
  "metadata": {
    "kernelspec": {
      "display_name": "Python 3 (ipykernel)",
      "language": "python",
      "name": "python3"
    },
    "language_info": {
      "codemirror_mode": {
        "name": "ipython",
        "version": 3
      },
      "file_extension": ".py",
      "mimetype": "text/x-python",
      "name": "python",
      "nbconvert_exporter": "python",
      "pygments_lexer": "ipython3",
      "version": "3.9.7"
    },
    "colab": {
      "provenance": [],
      "include_colab_link": true
    }
  },
  "nbformat": 4,
  "nbformat_minor": 5
}