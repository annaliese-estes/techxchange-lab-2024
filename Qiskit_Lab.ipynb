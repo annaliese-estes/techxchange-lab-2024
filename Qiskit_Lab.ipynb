{
  "cells": [
    {
      "cell_type": "markdown",
      "metadata": {
        "id": "view-in-github",
        "colab_type": "text"
      },
      "source": [
        "<a href=\"https://colab.research.google.com/github/annaliese-estes/techxchange-lab-2024/blob/main/Qiskit_Lab.ipynb\" target=\"_parent\"><img src=\"https://colab.research.google.com/assets/colab-badge.svg\" alt=\"Open In Colab\"/></a>"
      ]
    },
    {
      "cell_type": "markdown",
      "id": "859c8b3f",
      "metadata": {
        "id": "859c8b3f"
      },
      "source": [
        "\n",
        "# Qiskit Runtime Lab\n",
        "\n",
        "Instructors:  \n",
        "Annaliese Estes  \n",
        "James Weaver\n",
        "\n",
        "Email:  \n",
        "annaliese.estes@ibm.com  \n",
        "james.weaver@ibm.com\n",
        "\n",
        "## Introducing this hands on lab\n",
        "\n",
        "This hands-on lab is a gentle introduction to quantum computing with Qiskit. This lab leverages some the latest innovations from IBM Quantum, such as Qiskit Runtime, and will help you get up to speed on the following topics and skills:\n",
        "\n",
        "- Creating quantum circuits:\n",
        "    - Visually, using the IBM Quantum Composer\n",
        "    - Procedurally, using Python and the Qiskit library\n",
        "- Executing quantum circuits from the Composer, and by using Qiskit Runtime Primitives\n",
        "- Leveraging the Qiskit Sampler primitive\n",
        "- Executing circuits on IBM Quantum computers\n",
        "\n",
        "Along the way, we'll introduce you to the brand new IBM Quantum platform, which is continually being augmented and improved. There are links to specific resources on the platform in which you'll implement the instructions of this hands-on lab as well as gain information helpful in carrying out those steps. *Note: You may find it helpful to open these links in separate tabs so that this syllabus remains open.*\n",
        "\n",
        "You may access this lab at any time at *link* so don't be concerned about finishing in the allotted time. It is often better to spend time internalizing concepts than to rush through the learning process. We'll begin the journey with an overview of the IBM Quantum platform.\n",
        "\n",
        "## Surveying the IBM Quantum Platform\n",
        "\n",
        "Go ahead and sign in to [IBM Quantum](https://quantum.ibm.com), creating an account if you don't already have one. Then, let's take some time to get familiar with the IBM Quantum platform, beginning with clicking the \"nine dot\" icon in the upper right corner of its interface and briefly visiting the Platform, Documentation and Learning options.\n",
        "\n",
        "Let's continue the journey by creating a quantum circuit in the IBM Quantum Composer.\n",
        "\n",
        "## Creating a quantum circuit in the IBM Quantum Composer\n",
        "\n",
        "Go ahead and navigate to the IBM Quantum Composer from the IBM Quantum platform by selecting Learning from the “nine dot” icon, and then selecting Composer from the IBM Quantum Learning page options. When you are in the IBM Quantum Composer, perform the following steps:\n",
        "\n",
        "1. Open the Composer docs & tutorials slide-out pane on the left\n",
        "\n",
        "2. Select the Create your first circuit walkthrough option, clicking Next to visit each step in the process.\n",
        "\n",
        "3. Now you will create your own circuit, using the foundation you created during the walkthrough. Instead of the two-qubit ϕ+ Bell state shown in the walkthrough, create a two-qubit ψ− Bell state, also called a singlet Bell state. Hint: Strategically placed X and Z gates will turn the ϕ+ Bell state into a ψ− Bell state. You can learn about each of the 4 different Bell states from the [Basics of Quantum Information page.](https://learning.quantum.ibm.com/course/basics-of-quantum-information/multiple-systems#bell-states) Please ask for help if you're stuck, as this step can be overwhelming to folks new to quantum computing.\n",
        "\n",
        "4. The resultant Probabilities histogram visualization should indicate 50% probabilities of the 01 and 10 computational basis states being the result of measuring the quantum state.\n",
        "\n",
        "5. The resultant Statevector histogram and Q-sphere visualizations (after temporarily removing the measurement operations) should indicate that the amplitudes and probabilities of the 01 and 10 computational basis states are equal to each other, but in opposite phases.\n",
        "\n",
        "*Note: If you'd like to learn more, select the \"Explore the latest updates option\", clicking Next to learn about each new feature.*\n",
        "\n",
        "Nice work! Let's move on to executing your quantum circuit from the IBM Quantum Composer.\n",
        "\n",
        "## Executing your quantum circuit from the IBM Quantum Composer\n",
        "\n",
        "To execute your quantum circuit from the IBM Quantum Composer, perform the following steps:\n",
        "\n",
        "1. Click the Setup and Run button located near the upper right corner of the interface.\n",
        "\n",
        "2. A pane labeled Setup and run your circuit should slide out from the right.\n",
        "\n",
        "3. Choose a quantum system to run the circuit on. You'll want to choose a system with the lowest number of pending jobs.\n",
        "\n",
        "4. Click the Run on button in the lower right corner of the interface.\n",
        "\n",
        "5. Click on the circular Composer jobs icon on the left side of the interface to see details about your job. Notice how the circuit looks different from how you laid it out on the Composer- this is because it has been transpiled to the native gate set, and laid out in an optimal fashion, for the quantum computer that you've chosen.\n",
        "\n",
        "6. When the job is finished, the Status timeline should indicate that it has Completed.\n",
        "\n",
        "7. Click the \"Details\", \"Results\" and \"See more details\" controls to learn what information about the job is available.\n",
        "\n",
        "8. Before you leave the IBM Quantum Composer, notice that the OpenQASM code that can create your circuit is shown in the rightmost pane. Clicking on the OpenQASM label and choosing Qiskit will reveal Python code that can create your circuit.\n",
        "\n",
        "Awesome! Next we'll explore how to create and run quantum circuits using Python, Qiskit libraries, and Qiskit Runtime.\n",
        "\n",
        "## Understanding Qiskit Primitives, and choosing your coding environment\n",
        "\n",
        "Here's a great [introduction](https://docs.quantum.ibm.com/guides/primitives) to Qiskit Runtime Primitives within the Qiskit Documentation.\n",
        "\n",
        "When working with Qiskit, you can use any environment where you have Python installed. For today's lab, please use [Google Colab](https://colab.research.google.com/).\n",
        "\n",
        "## Creating and running quantum circuits using Python and the Qiskit SDK\n",
        "\n",
        "Using your chosen environment, please populate that environment with the code in the following section."
      ]
    },
    {
      "cell_type": "markdown",
      "id": "87444477",
      "metadata": {
        "id": "87444477"
      },
      "source": [
        "# Magic 8 Ball\n",
        "\n",
        "Here, we will build a Magic 8 Ball program that randomly returns 1 of 8 possible responses. How do we use quantum computing to generate a random number? Computational space scales exponentially in quantum computing. Thus, if we need a random result out of 8 possibilities, our program needs to take a measurement of a quantum state vector that consists of 8 basis states, which represent the computational space of 3 qubits in an equal superposition.\n",
        "\n",
        "## Qiskit Patterns: Map Problem to Quantum Circuits and Operators\n",
        "\n",
        "We can think of this step as mapping our problem to be run on a quantum computer. This step needs to be done for any quantum computation, because our instinct is to think of problems in a classical way, while quantum computers work differently.\n",
        "\n",
        "Problem:\n",
        "I need a program to generate a random number out of 8.\n",
        "\n",
        "Mapping to a classical computer: generate a random integer in range(1,9)\n",
        "\n",
        "Mapping to a quantum computer: put 3 qubits into an equal superposition, which creates a quantum state vector with 8 basis states, each with an equal probability of being the result of a measurement\n",
        "\n",
        "Because we aren't running on real hardware in this case, we won't be following the rest of the steps in [Qiskit Patterns](https://docs.quantum.ibm.com/guides/intro-to-patterns). However, later in this lab, we will introduce the final 3 steps: optimization, execution, and post-processing."
      ]
    },
    {
      "cell_type": "code",
      "execution_count": null,
      "id": "a81d31ee",
      "metadata": {
        "scrolled": true,
        "id": "a81d31ee",
        "collapsed": true
      },
      "outputs": [],
      "source": [
        "# install Qiskit with visualization\n",
        "\n",
        "!pip install qiskit[visualization]"
      ]
    },
    {
      "cell_type": "code",
      "execution_count": null,
      "id": "d32bc7b5",
      "metadata": {
        "id": "d32bc7b5"
      },
      "outputs": [],
      "source": [
        "# install additional packages\n",
        "\n",
        "from qiskit import QuantumCircuit\n",
        "from qiskit.visualization import plot_histogram\n",
        "from qiskit.primitives import StatevectorSampler"
      ]
    },
    {
      "cell_type": "code",
      "execution_count": null,
      "id": "dff395a3",
      "metadata": {
        "id": "dff395a3"
      },
      "outputs": [],
      "source": [
        "# define Magic 8 Ball responses\n",
        "\n",
        "responses = [\"Yes\", \"Definitely\", \"Not today\", \"Try again\", \"Not likely\", \"Answer unclear\", \"Outlook not so good\", \"Signs point to yes\"]"
      ]
    },
    {
      "cell_type": "code",
      "execution_count": null,
      "id": "1568e5ff",
      "metadata": {
        "colab": {
          "base_uri": "https://localhost:8080/",
          "height": 320
        },
        "id": "1568e5ff",
        "outputId": "a397641e-9091-4fce-92ae-24774136c5bf"
      },
      "outputs": [
        {
          "output_type": "execute_result",
          "data": {
            "text/plain": [
              "<Figure size 580.387x367.889 with 1 Axes>"
            ],
            "image/png": "[encoded data removed]"
          },
          "metadata": {},
          "execution_count": 5
        }
      ],
      "source": [
        "# set up our Quantum circuit with 3 qubits\n",
        "qc = QuantumCircuit(3)\n",
        "\n",
        "# place a Hadamard gate on qubits 0, 1, and 2\n",
        "qc.h(0)\n",
        "qc.h(1)\n",
        "qc.h(2)\n",
        "\n",
        "# take a measurement\n",
        "qc.measure_all()\n",
        "\n",
        "qc.draw(\"mpl\")"
      ]
    },
    {
      "cell_type": "code",
      "execution_count": null,
      "id": "e7dc87be",
      "metadata": {
        "colab": {
          "base_uri": "https://localhost:8080/"
        },
        "id": "e7dc87be",
        "outputId": "24c093ea-f1fd-4319-e6fe-2b159dc1730d"
      },
      "outputs": [
        {
          "output_type": "stream",
          "name": "stdout",
          "text": [
            "{'101': 1}\n"
          ]
        }
      ],
      "source": [
        "# invoke the Sampler and display resulting measurement\n",
        "\n",
        "sampler = StatevectorSampler()\n",
        "pub = (qc)\n",
        "job_sampler = sampler.run([pub], shots=1)\n",
        "\n",
        "result_sampler = job_sampler.result()\n",
        "counts_sampler = result_sampler[0].data.meas.get_counts()\n",
        "\n",
        "print(counts_sampler)"
      ]
    },
    {
      "cell_type": "code",
      "execution_count": null,
      "id": "82fec05c",
      "metadata": {
        "colab": {
          "base_uri": "https://localhost:8080/"
        },
        "id": "82fec05c",
        "outputId": "e6420669-701d-419a-ceb3-a5f6c02d1d6e"
      },
      "outputs": [
        {
          "output_type": "stream",
          "name": "stdout",
          "text": [
            "Answer unclear\n"
          ]
        }
      ],
      "source": [
        "# accessing the first key of the dict item containing our results\n",
        "\n",
        "first_key = list(counts_sampler.keys())[0]\n",
        "\n",
        "# turning that string into an integer\n",
        "# result is given in base 2, so we need to communicate that because the int() function assumes base 10 as default\n",
        "\n",
        "integer_value = int(first_key, 2)\n",
        "\n",
        "print(responses[integer_value])"
      ]
    },
    {
      "cell_type": "markdown",
      "id": "a8e71158",
      "metadata": {
        "id": "a8e71158"
      },
      "source": [
        "### Developing a program that leverages the Qiskit Sampler primitive\n",
        "\n",
        "Now it's time to get your hands dirty with Python and Qiskit code. Your initial assignment, should you choose to accept it, will be to develop a program that samples one chocolate candy from a box that contains two pieces. The circuit that chooses a chocolate utilizes a singlet Bell state.\n",
        "\n",
        "Bell circuits are specific circuits which generate Bell states, or EPR pairs, a form of entangled and normalized basis vectors. In other words, they are the circuits we use to generate entangled states, a key ingredient in quantum computations.\n",
        "\n",
        "There exist 4 different Bell states. You can learn about each from the [Basics of Quantum Information page.](https://learning.quantum.ibm.com/course/basics-of-quantum-information/multiple-systems#bell-states)\n",
        "\n",
        "Your Task: please build a circuit that generates the  |𝜓−⟩  Bell state.\n"
      ]
    },
    {
      "cell_type": "code",
      "execution_count": null,
      "id": "977c2924",
      "metadata": {
        "colab": {
          "base_uri": "https://localhost:8080/",
          "height": 122
        },
        "id": "977c2924",
        "outputId": "0999eb2a-f829-40dc-84f6-7e9b67c7f41d"
      },
      "outputs": [
        {
          "output_type": "execute_result",
          "data": {
            "text/plain": [
              "        ┌───┐     ┌───┐ ░ ┌─┐   \n",
              "   q_0: ┤ H ├──■──┤ Z ├─░─┤M├───\n",
              "        └───┘┌─┴─┐├───┤ ░ └╥┘┌─┐\n",
              "   q_1: ─────┤ X ├┤ X ├─░──╫─┤M├\n",
              "             └───┘└───┘ ░  ║ └╥┘\n",
              "meas: 2/═══════════════════╩══╩═\n",
              "                           0  1 "
            ],
            "text/html": [
              "<pre style=\"word-wrap: normal;white-space: pre;background: #fff0;line-height: 1.1;font-family: &quot;Courier New&quot;,Courier,monospace\">        ┌───┐     ┌───┐ ░ ┌─┐   \n",
              "   q_0: ┤ H ├──■──┤ Z ├─░─┤M├───\n",
              "        └───┘┌─┴─┐├───┤ ░ └╥┘┌─┐\n",
              "   q_1: ─────┤ X ├┤ X ├─░──╫─┤M├\n",
              "             └───┘└───┘ ░  ║ └╥┘\n",
              "meas: 2/═══════════════════╩══╩═\n",
              "                           0  1 </pre>"
            ]
          },
          "metadata": {},
          "execution_count": 8
        }
      ],
      "source": [
        "# Build a circuit to form a psi-minus Bell state\n",
        "# Apply gates to the provided QuantumCircuit, qc\n",
        "\n",
        "qc = QuantumCircuit(2)\n",
        "\n",
        "qc.h(0)\n",
        "qc.cx(0, 1)\n",
        "qc.z(0)\n",
        "qc.x(1)\n",
        "qc.measure_all()\n",
        "\n",
        "qc.draw()"
      ]
    },
    {
      "cell_type": "code",
      "execution_count": null,
      "id": "b7f3db77",
      "metadata": {
        "colab": {
          "base_uri": "https://localhost:8080/"
        },
        "id": "b7f3db77",
        "outputId": "015f55f2-f867-460f-8d03-0c90921420b3"
      },
      "outputs": [
        {
          "output_type": "stream",
          "name": "stdout",
          "text": [
            "{'01': 505, '10': 495}\n"
          ]
        }
      ],
      "source": [
        "# Invoke the Sampler and display the results\n",
        "\n",
        "sampler = StatevectorSampler()\n",
        "pub = (qc)\n",
        "job_sampler = sampler.run([pub], shots=1000)\n",
        "\n",
        "result_sampler = job_sampler.result()\n",
        "counts_sampler = result_sampler[0].data.meas.get_counts()\n",
        "\n",
        "print(counts_sampler)"
      ]
    },
    {
      "cell_type": "code",
      "execution_count": null,
      "id": "a0671ab4",
      "metadata": {
        "colab": {
          "base_uri": "https://localhost:8080/",
          "height": 437
        },
        "id": "a0671ab4",
        "outputId": "55362f40-2f46-4088-9724-415105a954b1"
      },
      "outputs": [
        {
          "output_type": "execute_result",
          "data": {
            "text/plain": [
              "<Figure size 640x480 with 1 Axes>"
            ],
            "image/png": "[encoded data removed]"
          },
          "metadata": {},
          "execution_count": 10
        }
      ],
      "source": [
        "plot_histogram(counts_sampler)"
      ]
    },
    {
      "cell_type": "markdown",
      "id": "ecd72653",
      "metadata": {
        "id": "ecd72653"
      },
      "source": [
        "For an additional challenge, please develop a program that samples one chocolate candy from a box that contains three pieces. The circuit that chooses a chocolate utilizes a W-state, in this case consisting of three qubits.\n",
        "\n",
        "Next, we will develop a slightly more complicated circuit. Similarly to Bell states circuit producing Bell states, W-state circuits produce W states. Although Bell states entangle two qubits, W-states entangle three qubits. We will provide some specifics of the operation for today. If you are interested in learning more about W-states, check out this [Wikipedia article.](https://en.wikipedia.org/wiki/W_state)\n",
        "\n",
        "To build our W-state, we will follow 6 simple steps:\n",
        "- Initialize our 3 qubit circuit\n",
        "- Perform an Ry rotation on our qubit. The specifics of this operation are provided.\n",
        "- Perform a controlled hadamard gate on qubit 1, with control qubit 0\n",
        "- Add a CNOT gate with control qubit 1 and target qubit 2\n",
        "- Add a CNOT gate with control qubit 0 and target qubit 1\n",
        "- Add a X gate on qubit 0"
      ]
    },
    {
      "cell_type": "code",
      "execution_count": null,
      "id": "93d34dc1",
      "metadata": {
        "colab": {
          "base_uri": "https://localhost:8080/",
          "height": 152
        },
        "id": "93d34dc1",
        "outputId": "f9b69053-f494-4bfa-a63c-0707a6274b3d"
      },
      "outputs": [
        {
          "output_type": "execute_result",
          "data": {
            "text/plain": [
              "        ┌────────────┐               ┌───┐ ░ ┌─┐      \n",
              "   q_0: ┤ Ry(1.9106) ├──■─────────■──┤ X ├─░─┤M├──────\n",
              "        └────────────┘┌─┴─┐     ┌─┴─┐└───┘ ░ └╥┘┌─┐   \n",
              "   q_1: ──────────────┤ H ├──■──┤ X ├──────░──╫─┤M├───\n",
              "                      └───┘┌─┴─┐└───┘      ░  ║ └╥┘┌─┐\n",
              "   q_2: ───────────────────┤ X ├───────────░──╫──╫─┤M├\n",
              "                           └───┘           ░  ║  ║ └╥┘\n",
              "meas: 3/══════════════════════════════════════╩══╩══╩═\n",
              "                                              0  1  2 "
            ],
            "text/html": [
              "<pre style=\"word-wrap: normal;white-space: pre;background: #fff0;line-height: 1.1;font-family: &quot;Courier New&quot;,Courier,monospace\">        ┌────────────┐               ┌───┐ ░ ┌─┐      \n",
              "   q_0: ┤ Ry(1.9106) ├──■─────────■──┤ X ├─░─┤M├──────\n",
              "        └────────────┘┌─┴─┐     ┌─┴─┐└───┘ ░ └╥┘┌─┐   \n",
              "   q_1: ──────────────┤ H ├──■──┤ X ├──────░──╫─┤M├───\n",
              "                      └───┘┌─┴─┐└───┘      ░  ║ └╥┘┌─┐\n",
              "   q_2: ───────────────────┤ X ├───────────░──╫──╫─┤M├\n",
              "                           └───┘           ░  ║  ║ └╥┘\n",
              "meas: 3/══════════════════════════════════════╩══╩══╩═\n",
              "                                              0  1  2 </pre>"
            ]
          },
          "metadata": {},
          "execution_count": 11
        }
      ],
      "source": [
        "# Let's create and draw a W-state circuit\n",
        "\n",
        "qc = QuantumCircuit(3)\n",
        "\n",
        "qc.ry(1.91063324, 0)\n",
        "\n",
        "# below is filled in for purposes of testing the lab, on the day of we will have them fill this in themselves\n",
        "\n",
        "qc.ch(0, 1)\n",
        "qc.cx(1, 2)\n",
        "qc.cx(0, 1)\n",
        "qc.x(0)\n",
        "qc.measure_all()\n",
        "\n",
        "qc.draw()"
      ]
    },
    {
      "cell_type": "code",
      "execution_count": null,
      "id": "cc8a8f41",
      "metadata": {
        "colab": {
          "base_uri": "https://localhost:8080/"
        },
        "id": "cc8a8f41",
        "outputId": "ed65957d-3891-4683-830b-6493516c812e"
      },
      "outputs": [
        {
          "output_type": "stream",
          "name": "stdout",
          "text": [
            "{'001': 344, '010': 351, '100': 305}\n"
          ]
        }
      ],
      "source": [
        "# Invoke the Sampler and display results\n",
        "\n",
        "sampler = StatevectorSampler()\n",
        "pub = (qc)\n",
        "job_sampler = sampler.run([pub], shots=1000)\n",
        "\n",
        "result_sampler = job_sampler.result()\n",
        "counts_sampler = result_sampler[0].data.meas.get_counts()\n",
        "\n",
        "print(counts_sampler)"
      ]
    },
    {
      "cell_type": "code",
      "execution_count": null,
      "id": "9922ec60",
      "metadata": {
        "colab": {
          "base_uri": "https://localhost:8080/",
          "height": 445
        },
        "id": "9922ec60",
        "outputId": "1e90ff19-01a8-492d-bb63-f3d490c8778e"
      },
      "outputs": [
        {
          "output_type": "execute_result",
          "data": {
            "text/plain": [
              "<Figure size 640x480 with 1 Axes>"
            ],
            "image/png": "[encoded data removed]"
          },
          "metadata": {},
          "execution_count": 13
        }
      ],
      "source": [
        "plot_histogram(counts_sampler)"
      ]
    },
    {
      "cell_type": "markdown",
      "id": "e4752ebf",
      "metadata": {
        "id": "e4752ebf"
      },
      "source": [
        "# Next Steps\n",
        "Congratulations on completing this introductory Qiskit Runtime Lab! Let's recap what you've learned so far:\n",
        "1. **IBM Quantum Platform Overview**\n",
        "   - Explored the platform's interface\n",
        "   - Familiarized with Documentation and Learning sections\n",
        "2. **IBM Quantum Composer**\n",
        "   - Created a quantum circuit visually (two-qubit ψ− Bell state)\n",
        "   - Executed the circuit and interpreted results through visualizations\n",
        "3. **Quantum Circuit Creation and Execution**\n",
        "   - Built a \"Magic 8 Ball\" program using a 3-qubit quantum circuit\n",
        "   - Learned to use the Qiskit StatevectorSampler for circuit execution\n",
        "4. **Creating Quantum States**\n",
        "   - Created a circuit for the ψ− Bell state and sampled from it\n",
        "   - Built a more complex W-state circuit with 3 qubits\n",
        "\n",
        "Throughout these exercises, you've gained hands-on experience with quantum circuit design, execution, and result interpretation using both visual (Composer) and programmatic (Python/Qiskit) approaches.\n",
        "Now that you have a solid foundation, let's explore some next steps to further your quantum computing journey. You might explore these now, if there is time remaining in today's lab, or any time in the future:\n",
        "\n",
        "We encourage you to check out the [Qiskit \"Hello World\" problem](https://docs.quantum.ibm.com/guides/hello-world) run by Derek Wang as part of the Qiskit Youtube series: \"Coding with Qiskit 1.0\". We strongly encourage that you watch the linked video, rather than working through the code on your own. Derek talks through the Estimator Primitive, which we only briefly touched on today, and he also walks you through the 4 steps of Qiskit Patterns.\n",
        "\n",
        "To continue your learning on your own, we recommend checking out the courses & tutorials on the [IBM Quantum Platform](https://quantum.ibm.com), and the [Qiskit Youtube channel](https://www.youtube.com/@qiskit)."
      ]
    }
  ],
  "metadata": {
    "kernelspec": {
      "display_name": "Python 3 (ipykernel)",
      "language": "python",
      "name": "python3"
    },
    "language_info": {
      "codemirror_mode": {
        "name": "ipython",
        "version": 3
      },
      "file_extension": ".py",
      "mimetype": "text/x-python",
      "name": "python",
      "nbconvert_exporter": "python",
      "pygments_lexer": "ipython3",
      "version": "3.9.7"
    },
    "colab": {
      "provenance": [],
      "include_colab_link": true
    }
  },
  "nbformat": 4,
  "nbformat_minor": 5
}