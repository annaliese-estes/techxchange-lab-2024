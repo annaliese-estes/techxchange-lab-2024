{
  "cells": [
    {
      "cell_type": "markdown",
      "metadata": {
        "id": "view-in-github",
        "colab_type": "text"
      },
      "source": [
        "<a href=\"https://colab.research.google.com/github/annaliese-estes/techxchange-lab-2024/blob/main/Qiskit_Lab.ipynb\" target=\"_parent\"><img src=\"https://colab.research.google.com/assets/colab-badge.svg\" alt=\"Open In Colab\"/></a>"
      ]
    },
    {
      "cell_type": "markdown",
      "id": "859c8b3f",
      "metadata": {
        "id": "859c8b3f"
      },
      "source": [
        "\n",
        "# Qiskit Runtime Lab\n",
        "\n",
        "Instructors:  \n",
        "Annaliese Estes  \n",
        "James Weaver\n",
        "\n",
        "Email:  \n",
        "annaliese.estes@ibm.com  \n",
        "james.weaver@ibm.com"
      ]
    },
    {
      "cell_type": "markdown",
      "id": "87444477",
      "metadata": {
        "id": "87444477"
      },
      "source": [
        "# Magic 8 Ball\n",
        "\n",
        "Here, we will build a Magic 8 Ball program that randomly returns 1 of 8 possible responses. How do we use quantum computing to generate a random number? Computational space scales exponentially in quantum computing. Thus, if we need a random result out of 8 possibilities, our program needs to take a measurement of a quantum state vector that consists of 8 basis states, which represent the computational space of 3 qubits in an equal superposition.\n",
        "\n"
      ]
    },
    {
      "cell_type": "code",
      "execution_count": null,
      "id": "a81d31ee",
      "metadata": {
        "scrolled": true,
        "id": "a81d31ee",
        "collapsed": true
      },
      "outputs": [],
      "source": [
        "# install Qiskit with visualization\n",
        "\n"
      ]
    },
    {
      "cell_type": "code",
      "execution_count": null,
      "id": "d32bc7b5",
      "metadata": {
        "id": "d32bc7b5"
      },
      "outputs": [],
      "source": [
        "# install additional packages\n",
        "\n",
        "from qiskit import QuantumCircuit\n",
        "from qiskit.visualization import plot_histogram\n",
        "from qiskit.primitives import StatevectorSampler\n",
        "import math\n",
        "import matplotlib.pyplot as plt"
      ]
    },
    {
      "cell_type": "code",
      "execution_count": null,
      "id": "dff395a3",
      "metadata": {
        "id": "dff395a3"
      },
      "outputs": [],
      "source": [
        "# define Magic 8 Ball responses\n",
        "\n"
      ]
    },
    {
      "cell_type": "markdown",
      "source": [
        "## Qiskit Patterns: Map problem to quantum circuits\n",
        "\n",
        "We can think of this step as mapping our problem to be run on a quantum computer. This step needs to be done for any quantum computation, because our instinct is to think of problems in a classical way, while quantum computers work differently.\n",
        "\n",
        "Problem:\n",
        "I need a program to generate a random number out of 8.\n",
        "\n",
        "Mapping to a classical computer: generate a random integer in range(1,9)\n",
        "\n",
        "Mapping to a quantum computer: put 3 qubits into an equal superposition, which creates a quantum state vector with 8 basis states, each with an equal probability of being the result of a measurement\n",
        "\n",
        "Because we aren't running on real hardware in this case, we won't be following the rest of the steps in [Qiskit Patterns](https://docs.quantum.ibm.com/guides/intro-to-patterns). However, later in this lab, we will introduce the final 3 steps: optimization, execution, and post-processing."
      ],
      "metadata": {
        "id": "U1pyrKpBRjET"
      },
      "id": "U1pyrKpBRjET"
    },
    {
      "cell_type": "code",
      "execution_count": null,
      "id": "1568e5ff",
      "metadata": {
        "id": "1568e5ff"
      },
      "outputs": [],
      "source": [
        "# set up a Quantum circuit with 3 qubits\n",
        "\n",
        "\n",
        "# place a Hadamard gate on qubits 0, 1, and 2\n",
        "\n",
        "\n",
        "# add a measurement to your circuit\n",
        "\n",
        "\n",
        "# visualize your circuit before running it\n"
      ]
    },
    {
      "cell_type": "code",
      "execution_count": null,
      "id": "e7dc87be",
      "metadata": {
        "id": "e7dc87be"
      },
      "outputs": [],
      "source": [
        "# invoke the Sampler, run our circuit 1024 times to prove equal superposition, and display resulting measurements\n",
        "\n",
        "\n",
        "\n",
        "\n"
      ]
    },
    {
      "cell_type": "code",
      "source": [
        "# plot your results\n"
      ],
      "metadata": {
        "id": "20KV3UUcdIib"
      },
      "id": "20KV3UUcdIib",
      "execution_count": null,
      "outputs": []
    },
    {
      "cell_type": "code",
      "source": [
        "# invoke the Sampler, run our circuit once to get a result for the Magic 8 Ball, and display resulting measurement\n",
        "\n",
        "\n",
        "\n",
        "\n",
        "\n",
        "\n"
      ],
      "metadata": {
        "id": "mcP2hxAhdOCB"
      },
      "id": "mcP2hxAhdOCB",
      "execution_count": null,
      "outputs": []
    },
    {
      "cell_type": "code",
      "execution_count": null,
      "id": "82fec05c",
      "metadata": {
        "id": "82fec05c"
      },
      "outputs": [],
      "source": [
        "# accessing the first key of the dict item containing our results\n",
        "first_key = list(counts_sampler.keys())[0]\n",
        "\n",
        "# turning that string into an integer\n",
        "# result is given in base 2, so we need to communicate that because the int() function assumes base 10 as default\n",
        "integer_value = int(first_key, 2)\n",
        "\n",
        "# returns our Magic 8 Ball response\n",
        "print(responses[integer_value])"
      ]
    },
    {
      "cell_type": "markdown",
      "source": [
        "### Expanding on the Magic 8 Ball\n",
        "\n",
        "increasing likelihood of positive or negative responses"
      ],
      "metadata": {
        "id": "2poiQQS1TAeQ"
      },
      "id": "2poiQQS1TAeQ"
    },
    {
      "cell_type": "code",
      "source": [
        "# set up a Quantum circuit with 3 qubits\n",
        "\n",
        "\n",
        "# place a Hadamard gate on qubits 0, 1, and 2\n",
        "\n",
        "\n",
        "# weight the likelihood of certain outcomes by using an Ry gate\n",
        "\n",
        "\n",
        "# add a measurement to your circuit\n",
        "\n",
        "\n",
        "# visualize the circuit before running it\n"
      ],
      "metadata": {
        "id": "rdPk0najTHjQ"
      },
      "id": "rdPk0najTHjQ",
      "execution_count": null,
      "outputs": []
    },
    {
      "cell_type": "code",
      "source": [
        "# invoke the Sampler, run your circuit 1024 times to prove weighted superposition, and display resulting measurements\n",
        "\n",
        "\n",
        "\n",
        "\n",
        "\n",
        "\n",
        "\n"
      ],
      "metadata": {
        "id": "sjmtLPuLTLwe"
      },
      "id": "sjmtLPuLTLwe",
      "execution_count": null,
      "outputs": []
    },
    {
      "cell_type": "code",
      "source": [
        "# plot your results\n",
        "\n"
      ],
      "metadata": {
        "id": "e116IqSSTOIm"
      },
      "id": "e116IqSSTOIm",
      "execution_count": null,
      "outputs": []
    },
    {
      "cell_type": "code",
      "source": [
        "# invoke the Sampler, run your circuit once to get a result for the Magic 8 Ball, and display resulting measurement\n",
        "\n",
        "\n",
        "\n",
        "\n",
        "\n",
        "\n",
        "\n"
      ],
      "metadata": {
        "id": "Cy8mxZBYTQcg"
      },
      "id": "Cy8mxZBYTQcg",
      "execution_count": null,
      "outputs": []
    },
    {
      "cell_type": "code",
      "source": [
        "# accessing the first key of the dict item containing our results\n",
        "first_key = list(counts_sampler.keys())[0]\n",
        "\n",
        "# turning that string into an integer\n",
        "# result is given in base 2, so we need to communicate that because the int() function assumes base 10 as default\n",
        "integer_value = int(first_key, 2)\n",
        "\n",
        "# returns our Magic 8 Ball response\n",
        "print(responses[integer_value])"
      ],
      "metadata": {
        "id": "VXns0Qcmd8fK"
      },
      "id": "VXns0Qcmd8fK",
      "execution_count": null,
      "outputs": []
    },
    {
      "cell_type": "markdown",
      "id": "a8e71158",
      "metadata": {
        "id": "a8e71158"
      },
      "source": [
        "### Developing your own program using the StatevectorSampler\n",
        "\n",
        "Now it's time to get your hands dirty with Python and Qiskit code. Your initial assignment, should you choose to accept it, will be to develop a program that samples one chocolate candy from a box that contains two pieces. The circuit that chooses a chocolate utilizes a singlet Bell state.\n",
        "\n",
        "Bell circuits are specific circuits which generate Bell states, or EPR pairs, a form of entangled and normalized basis vectors. In other words, they are the circuits we use to generate entangled states, a key ingredient in quantum computations.\n",
        "\n",
        "There exist 4 different Bell states. You can learn about each from the [Basics of Quantum Information page.](https://learning.quantum.ibm.com/course/basics-of-quantum-information/multiple-systems#bell-states)\n",
        "\n",
        "Your Task: please build a circuit that generates the  |𝜓−⟩  Bell state.\n"
      ]
    },
    {
      "cell_type": "code",
      "execution_count": null,
      "id": "977c2924",
      "metadata": {
        "id": "977c2924"
      },
      "outputs": [],
      "source": [
        "# Build a circuit to form a psi-minus Bell state\n",
        "# Apply gates to the provided QuantumCircuit, bell\n",
        "\n",
        "bell = QuantumCircuit(2)"
      ]
    },
    {
      "cell_type": "code",
      "execution_count": null,
      "id": "b7f3db77",
      "metadata": {
        "id": "b7f3db77"
      },
      "outputs": [],
      "source": [
        "# Invoke the Sampler and display the results\n",
        "\n",
        "\n",
        "\n",
        "\n",
        "\n",
        "\n"
      ]
    },
    {
      "cell_type": "code",
      "execution_count": null,
      "id": "a0671ab4",
      "metadata": {
        "id": "a0671ab4"
      },
      "outputs": [],
      "source": [
        "# plot results\n",
        "\n"
      ]
    },
    {
      "cell_type": "markdown",
      "id": "ecd72653",
      "metadata": {
        "id": "ecd72653"
      },
      "source": [
        "For an additional challenge, please develop a program that samples one chocolate candy from a box that contains three pieces. The circuit that chooses a chocolate utilizes a W-state, in this case consisting of three qubits.\n",
        "\n",
        "Next, we will develop a slightly more complicated circuit. Similarly to Bell states circuit producing Bell states, W-state circuits produce W states. Although Bell states entangle two qubits, W-states entangle three qubits. We will provide some specifics of the operation for today. If you are interested in learning more about W-states, check out this [Wikipedia article.](https://en.wikipedia.org/wiki/W_state)\n",
        "\n",
        "To build our W-state, we will follow 6 simple steps:\n",
        "- Initialize our 3 qubit circuit\n",
        "- Perform an Ry rotation on our qubit. The specifics of this operation are provided.\n",
        "- Perform a controlled hadamard gate on qubit 1, with control qubit 0\n",
        "- Add a CNOT gate with control qubit 1 and target qubit 2\n",
        "- Add a CNOT gate with control qubit 0 and target qubit 1\n",
        "- Add a X gate on qubit 0"
      ]
    },
    {
      "cell_type": "code",
      "execution_count": null,
      "id": "93d34dc1",
      "metadata": {
        "id": "93d34dc1"
      },
      "outputs": [],
      "source": [
        "# Let's create and draw a W-state circuit\n",
        "wstate = QuantumCircuit(3)\n",
        "\n",
        "# Apply gates to the provided QuantumCircuit, wstate\n",
        "\n",
        "\n",
        "# below is filled in for purposes of testing the lab, on the day of we will have them fill this in themselves\n",
        "\n"
      ]
    },
    {
      "cell_type": "code",
      "execution_count": null,
      "id": "cc8a8f41",
      "metadata": {
        "id": "cc8a8f41"
      },
      "outputs": [],
      "source": [
        "# Invoke the Sampler and display results\n",
        "\n"
      ]
    },
    {
      "cell_type": "code",
      "execution_count": null,
      "id": "9922ec60",
      "metadata": {
        "id": "9922ec60"
      },
      "outputs": [],
      "source": [
        "# plot your results\n",
        "\n"
      ]
    }
  ],
  "metadata": {
    "kernelspec": {
      "display_name": "Python 3 (ipykernel)",
      "language": "python",
      "name": "python3"
    },
    "language_info": {
      "codemirror_mode": {
        "name": "ipython",
        "version": 3
      },
      "file_extension": ".py",
      "mimetype": "text/x-python",
      "name": "python",
      "nbconvert_exporter": "python",
      "pygments_lexer": "ipython3",
      "version": "3.9.7"
    },
    "colab": {
      "provenance": [],
      "include_colab_link": true
    }
  },
  "nbformat": 4,
  "nbformat_minor": 5
}